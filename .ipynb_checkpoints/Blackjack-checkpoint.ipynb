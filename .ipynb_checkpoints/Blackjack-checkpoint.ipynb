{
 "cells": [
  {
   "cell_type": "code",
   "execution_count": 81,
   "metadata": {},
   "outputs": [],
   "source": [
    "import random"
   ]
  },
  {
   "cell_type": "code",
   "execution_count": 146,
   "metadata": {},
   "outputs": [],
   "source": [
    "deck = ['A',2,3,4,5,6,7,8,9,10,'J','Q','K','A',2,3,4,5,6,7,8,9,10,'J','Q','K','A',2,3,4,5,6,7,8,9,10,'J','Q','K','A',2,3,4,5,6,7,8,9,10,'J','Q','K']\n",
    "#deck = {'A': 11, 2:2, 3:3, 4:4, 5:5, 6:6, 7:7, 8:8, 9:9, 'J':10, 'Q',10, 'K', 10}"
   ]
  },
  {
   "cell_type": "code",
   "execution_count": 147,
   "metadata": {},
   "outputs": [
    {
     "name": "stdout",
     "output_type": "stream",
     "text": [
      "52\n"
     ]
    }
   ],
   "source": [
    "print(len(deck))\n",
    "\n",
    "player_hand = []\n",
    "cpu_hand = []\n"
   ]
  },
  {
   "cell_type": "code",
   "execution_count": 148,
   "metadata": {},
   "outputs": [
    {
     "name": "stdout",
     "output_type": "stream",
     "text": [
      "48\n",
      "['J', 7]\n",
      "[9, 4]\n"
     ]
    }
   ],
   "source": [
    "def player_draw():\n",
    "    player_hand.append(deck.pop(random.randint(0,len(deck))))\n",
    "\n",
    "def cpu_draw(): \n",
    "    cpu_hand.append(deck.pop(random.randint(0,len(deck))))\n",
    "\n",
    "def first_draw():\n",
    "    player_draw()\n",
    "    cpu_draw()\n",
    "    player_draw()\n",
    "    cpu_draw()\n",
    "    \n",
    "begin_game()\n",
    "\n",
    "print(len(deck))\n",
    "print(player_hand)\n",
    "print(cpu_hand)"
   ]
  },
  {
   "cell_type": "code",
   "execution_count": 105,
   "metadata": {},
   "outputs": [
    {
     "data": {
      "text/plain": [
       "21"
      ]
     },
     "execution_count": 105,
     "metadata": {},
     "output_type": "execute_result"
    }
   ],
   "source": [
    "prueba = ['Q','A']\n",
    "\n",
    "def calculate(l):\n",
    "    score = 0\n",
    "    for i in l:\n",
    "        if i == 'J'or i == 'Q' or i == 'K':\n",
    "            score += 10\n",
    "        elif i == 'A':\n",
    "            score += 11\n",
    "        else:\n",
    "            score += i\n",
    "    return score\n",
    "\n",
    "calculate(prueba)"
   ]
  },
  {
   "cell_type": "code",
   "execution_count": 149,
   "metadata": {},
   "outputs": [
    {
     "name": "stdout",
     "output_type": "stream",
     "text": [
      "[9, 4] 13\n",
      "['J', 7] 17\n"
     ]
    }
   ],
   "source": [
    "player_score = calculate(player_hand)\n",
    "cpu_score = calculate(cpu_hand)\n",
    "\n",
    "print(cpu_hand, cpu_score)\n",
    "print(player_hand, player_score)"
   ]
  },
  {
   "cell_type": "code",
   "execution_count": 155,
   "metadata": {},
   "outputs": [
    {
     "name": "stdout",
     "output_type": "stream",
     "text": [
      "cpu stays 18\n",
      "[9, 4, 5] 13\n"
     ]
    }
   ],
   "source": [
    "def cpu_choice(cpu_score):\n",
    "    cpu_score = calculate(cpu_hand)\n",
    "    if cpu_score < 17:\n",
    "        cpu_draw()\n",
    "    elif cpu_score > 17:\n",
    "        print('cpu stays', cpu_score)\n",
    "    return cpu_score\n",
    "        \n",
    "cpu_choice(cpu_score)\n",
    "print(cpu_hand, cpu_score)"
   ]
  },
  {
   "cell_type": "code",
   "execution_count": 143,
   "metadata": {},
   "outputs": [
    {
     "name": "stdout",
     "output_type": "stream",
     "text": [
      "42\n"
     ]
    }
   ],
   "source": []
  },
  {
   "cell_type": "code",
   "execution_count": null,
   "metadata": {},
   "outputs": [],
   "source": [
    "# para el As: si score > 21 and existe un A then restar 10 y volver a correr fucnion de decision"
   ]
  }
 ],
 "metadata": {
  "kernelspec": {
   "display_name": "Python 3",
   "language": "python",
   "name": "python3"
  },
  "language_info": {
   "codemirror_mode": {
    "name": "ipython",
    "version": 3
   },
   "file_extension": ".py",
   "mimetype": "text/x-python",
   "name": "python",
   "nbconvert_exporter": "python",
   "pygments_lexer": "ipython3",
   "version": "3.8.3"
  }
 },
 "nbformat": 4,
 "nbformat_minor": 4
}
