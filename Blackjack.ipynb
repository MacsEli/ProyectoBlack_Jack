{
 "cells": [
  {
   "cell_type": "code",
   "execution_count": 3,
   "metadata": {},
   "outputs": [],
   "source": [
    "import random"
   ]
  },
  {
   "cell_type": "code",
   "execution_count": 5,
   "metadata": {},
   "outputs": [],
   "source": [
    "deck = ['A',2,3,4,5,6,7,8,9,10,'J','Q','K','A',2,3,4,5,6,7,8,9,10,'J','Q','K','A',2,3,4,5,6,7,8,9,10,'J','Q','K','A',2,3,4,5,6,7,8,9,10,'J','Q','K']\n",
    "#deck = {'A': 1:1, 2:2, 3:3, 4:4, 5:5, 6:6, 7:7, 8:8, 9:9, 'J':10, 'Q',10, 'K', 10}"
   ]
  },
  {
   "cell_type": "code",
   "execution_count": 6,
   "metadata": {},
   "outputs": [
    {
     "name": "stdout",
     "output_type": "stream",
     "text": [
      "52\n"
     ]
    }
   ],
   "source": [
    "print(len(deck))\n",
    "\n",
    "player_hand = []\n",
    "cpu_hand = []\n"
   ]
  },
  {
   "cell_type": "code",
   "execution_count": 9,
   "metadata": {},
   "outputs": [
    {
     "name": "stdout",
     "output_type": "stream",
     "text": [
      "48\n",
      "[8, 5]\n",
      "[8, 6]\n"
     ]
    }
   ],
   "source": [
    "player_draw = deck.pop(random.randint(0,len(deck)))\n",
    "cpu_draw = deck.pop(random.randint(0,len(deck)))\n",
    "\n",
    "player_hand.append(player_draw)\n",
    "cpu_hand.append(cpu_draw)\n",
    "\n",
    "\n",
    "print(len(deck))\n",
    "print(player_hand)\n",
    "print(cpu_hand)"
   ]
  },
  {
   "cell_type": "code",
   "execution_count": 8,
   "metadata": {},
   "outputs": [],
   "source": [
    "prueba = ['A']\n",
    "\n",
    "def calculate(list):\n",
    "    for i in list:\n",
    "        if type(i)== 'J':\n",
    "            print('mono')\n",
    "        elif i == 'A':\n",
    "            print(11)\n",
    "        else:\n",
    "            print(i)"
   ]
  },
  {
   "cell_type": "code",
   "execution_count": 59,
   "metadata": {},
   "outputs": [
    {
     "name": "stdout",
     "output_type": "stream",
     "text": [
      "11\n"
     ]
    }
   ],
   "source": [
    "calculate(prueba)"
   ]
  },
  {
   "cell_type": "code",
   "execution_count": 37,
   "metadata": {},
   "outputs": [
    {
     "name": "stdout",
     "output_type": "stream",
     "text": [
      "Help on method randint in module random:\n",
      "\n",
      "randint(a, b) method of random.Random instance\n",
      "    Return random integer in range [a, b], including both end points.\n",
      "\n"
     ]
    }
   ],
   "source": [
    "help(random.randint)"
   ]
  },
  {
   "cell_type": "code",
   "execution_count": 43,
   "metadata": {},
   "outputs": [
    {
     "name": "stdout",
     "output_type": "stream",
     "text": [
      "Help on method_descriptor:\n",
      "\n",
      "pop(self, index=-1, /)\n",
      "    Remove and return item at index (default last).\n",
      "    \n",
      "    Raises IndexError if list is empty or index is out of range.\n",
      "\n"
     ]
    }
   ],
   "source": [
    "help(list.pop)"
   ]
  },
  {
   "cell_type": "code",
   "execution_count": 24,
   "metadata": {},
   "outputs": [],
   "source": [
    "#Read Score\n",
    "#player_hand = []\n",
    "#cpu_hand = []\n",
    "cpu_score=0\n",
    "player_score=0\n",
    "def calculateScore(x,l):\n",
    "    player_score=sum(x)\n",
    "    print(player_score)\n",
    "    cpu_score=sum(l)\n",
    "    print(cpu_score)  \n",
    "    print(calculaGanador(player_score,cpu_score))\n",
    "    \n",
    "    \n",
    "def calculaGanador(x,y):\n",
    "    if y==21:\n",
    "        return \"CPU Gana\"\n",
    "    elif x==21:\n",
    "        return \"jugador gana\"\n",
    "    elif y>21:\n",
    "        return \"CPU Pierde\"\n",
    "    elif x>21:\n",
    "        return \"Jugador pierde\"\n",
    "    else:\n",
    "        return \"True\"\n",
    "\n"
   ]
  },
  {
   "cell_type": "code",
   "execution_count": 25,
   "metadata": {},
   "outputs": [
    {
     "name": "stdout",
     "output_type": "stream",
     "text": [
      "13\n",
      "14\n",
      "True\n"
     ]
    }
   ],
   "source": [
    "cpu_score=0\n",
    "player_score=0\n",
    "calculateScore(player_hand,cpu_hand)"
   ]
  },
  {
   "cell_type": "code",
   "execution_count": null,
   "metadata": {},
   "outputs": [],
   "source": []
  }
 ],
 "metadata": {
  "kernelspec": {
   "display_name": "Python 3",
   "language": "python",
   "name": "python3"
  },
  "language_info": {
   "codemirror_mode": {
    "name": "ipython",
    "version": 3
   },
   "file_extension": ".py",
   "mimetype": "text/x-python",
   "name": "python",
   "nbconvert_exporter": "python",
   "pygments_lexer": "ipython3",
   "version": "3.8.3"
  }
 },
 "nbformat": 4,
 "nbformat_minor": 4
}
