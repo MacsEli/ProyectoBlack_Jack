{
 "cells": [
  {
   "cell_type": "code",
   "execution_count": 1,
   "metadata": {},
   "outputs": [],
   "source": [
    "import random\n",
    "##Project BlackJack Final\n",
    "\n",
    "\n",
    "#Read Score\n",
    "cpu_score=0\n",
    "player_score=0\n",
    "def calculateScore(x,l):\n",
    "    player_score=sum(x)\n",
    "    print(player_score)\n",
    "    cpu_score=sum(l)\n",
    "    print(cpu_score)  \n",
    "    print(calculaGanador(player_score,cpu_score))\n",
    "    \n",
    "#Calculate    \n",
    "def calculaGanador(player,cpu):\n",
    "    if cpu==21:\n",
    "        return \"CPU Gana\"\n",
    "    elif player==21:\n",
    "        return \"Jugador gana\"\n",
    "    elif cpu>21:\n",
    "        return \"CPU Pierde\"\n",
    "    elif player>21:\n",
    "        return \"Jugador pierde\"\n",
    "    elif player>cpu:\n",
    "        return \"Player Gana\"\n",
    "    else:\n",
    "        return \"CPU Gana\"\n",
    "\n",
    "    #Calculate    \n",
    "def playerganador(cpu,player):\n",
    "    if cpu==21 or player==21:\n",
    "        return 1\n",
    "    elif cpu>21 or player>21:\n",
    "        return 1\n",
    "    else:\n",
    "        return 0\n",
    "\n",
    "#Funcion de control\n",
    "def functionDeck(deck):\n",
    "    return deck.pop(random.randint(0,len(deck)-1))\n",
    "\n",
    "#Sacar Primera carta  \n",
    "def first_draw(deck,playH,cpuH):\n",
    "    playH.append(functionDeck(deck))\n",
    "    cpuH.append(functionDeck(deck))\n",
    "    playH.append(functionDeck(deck))\n",
    "    cpuH.append(functionDeck(deck))\n",
    "    \n",
    "#Calcular Score\n",
    "def calculate(l):\n",
    "    key1=lambda x: 11 if x == 'A' else x if type(x)==int else 10\n",
    "    l1=list(map(key1,l))\n",
    "    score = 0\n",
    "    for e,i in enumerate(sorted(l1)):\n",
    "        if score >= 12-(len(l1)-e) and i==11:\n",
    "            score += 1\n",
    "        else:\n",
    "            score += i      \n",
    "    return score\n",
    "\n",
    "#Desicion CPU \n",
    "def cpu_choice(deck,player_H,cpu_H):\n",
    "    cpu_Con=0\n",
    "    while(cpu_Con==0):\n",
    "        cpu_Con=playerganador(calculate(player_H),calculate(cpu_H))\n",
    "        cpu_score = calculate(cpu_H)\n",
    "        if cpu_score < 17:\n",
    "            cpu_H.append(functionDeck(deck))\n",
    "        elif cpu_score > 17:\n",
    "            cpu_Con=1\n",
    "    return cpu_score\n",
    "\n",
    "\n",
    "def playerDe(player_H):\n",
    "    print(\"Tus cartas son: \",player_H)\n",
    "    print(\"\\n ¿Deseas Sacar mas Cartas y/n?\")\n",
    "    continueP=input()\n",
    "    if continueP.startswith(\"y\"):\n",
    "        return 0\n",
    "    else:\n",
    "        return 1\n",
    "        \n",
    "        \n",
    "\n",
    "def initGame():\n",
    "    deck = ['A',2,3,4,5,6,7,8,9,10,'J','Q','K','A',2,3,4,5,6,7,8,9,10,'J','Q','K','A',2,3,4,5,6,7,8,9,10,'J','Q','K','A',2,3,4,5,6,7,8,9,10,'J','Q','K']\n",
    "    player_Con=0\n",
    "    cpu_Con=0\n",
    "    player_hand = []\n",
    "    cpu_hand = []\n",
    "    player_Con=0\n",
    "    cpu_Con=0\n",
    "    first_draw(deck,player_hand,cpu_hand)\n",
    "    player_Con=playerganador(calculate(player_hand),calculate(cpu_hand))\n",
    "    while(player_Con==0):\n",
    "        player_Con=playerDe(player_hand)\n",
    "        if player_Con==0:\n",
    "            player_hand.append(functionDeck(deck))\n",
    "            player_Con=playerganador(calculate(player_hand),calculate(cpu_hand))\n",
    "        print(\"Player Hand:\",player_hand)\n",
    "       \n",
    "    if calculate(player_hand)>=21:\n",
    "        string_Ganador=calculaGanador(calculate(player_hand),calculate(cpu_hand))\n",
    "    else:\n",
    "        cpu_choice(deck,player_hand,cpu_hand)\n",
    "        string_Ganador=calculaGanador(calculate(player_hand),calculate(cpu_hand))\n",
    "    \n",
    "    print(calculate(player_hand),calculate(cpu_hand))\n",
    "    print(string_Ganador)\n",
    "\n",
    "        \n",
    "        \n"
   ]
  },
  {
   "cell_type": "code",
   "execution_count": 2,
   "metadata": {},
   "outputs": [
    {
     "name": "stdout",
     "output_type": "stream",
     "text": [
      "Tus cartas son:  [5, 5]\n",
      "\n",
      " ¿Deseas Sacar mas Cartas y/n?\n",
      "y\n",
      "Player Hand: [5, 5, 'K']\n",
      "Tus cartas son:  [5, 5, 'K']\n",
      "\n",
      " ¿Deseas Sacar mas Cartas y/n?\n",
      "y\n",
      "Player Hand: [5, 5, 'K', 'J']\n",
      "30 14\n",
      "Jugador pierde\n"
     ]
    }
   ],
   "source": [
    "initGame()"
   ]
  },
  {
   "cell_type": "code",
   "execution_count": 5,
   "metadata": {},
   "outputs": [
    {
     "data": {
      "text/plain": [
       "12"
      ]
     },
     "execution_count": 5,
     "metadata": {},
     "output_type": "execute_result"
    }
   ],
   "source": [
    "calculate([8,11,11,11,11])"
   ]
  },
  {
   "cell_type": "code",
   "execution_count": null,
   "metadata": {},
   "outputs": [],
   "source": []
  }
 ],
 "metadata": {
  "kernelspec": {
   "display_name": "Python 3",
   "language": "python",
   "name": "python3"
  },
  "language_info": {
   "codemirror_mode": {
    "name": "ipython",
    "version": 3
   },
   "file_extension": ".py",
   "mimetype": "text/x-python",
   "name": "python",
   "nbconvert_exporter": "python",
   "pygments_lexer": "ipython3",
   "version": "3.8.3"
  }
 },
 "nbformat": 4,
 "nbformat_minor": 4
}
